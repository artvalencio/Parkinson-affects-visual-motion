{
  "nbformat": 4,
  "nbformat_minor": 0,
  "metadata": {
    "colab": {
      "name": "Modeling-Dynamic-Graph.ipynb",
      "version": "0.3.2",
      "provenance": [],
      "include_colab_link": true
    },
    "kernelspec": {
      "name": "python3",
      "display_name": "Python 3"
    }
  },
  "cells": [
    {
      "cell_type": "markdown",
      "metadata": {
        "id": "view-in-github",
        "colab_type": "text"
      },
      "source": [
        "<a href=\"https://colab.research.google.com/github/artvalencio/Parkinson-affects-visual-motion/blob/master/How_Parkinson_affects_visual_processing_of_motion.ipynb\" target=\"_parent\"><img src=\"https://colab.research.google.com/assets/colab-badge.svg\" alt=\"Open In Colab\"/></a>"
      ]
    },
    {
      "metadata": {
        "id": "XN08ol73ZzaW",
        "colab_type": "text"
      },
      "cell_type": "markdown",
      "source": [
        "#How does Parkinson disease affect the visual processing of motion?"
      ]
    },
    {
      "metadata": {
        "id": "kyBr72zhsXTL",
        "colab_type": "text"
      },
      "cell_type": "markdown",
      "source": [
        "##Objective"
      ]
    },
    {
      "metadata": {
        "id": "MhjgSBTlZPqn",
        "colab_type": "text"
      },
      "cell_type": "markdown",
      "source": [
        "This Jupyter Notebook summarizes the progress of the NeuroMat team in the research line of \"modelling dynamic functional connectivity from EEG data\" applied to individuals affected with Parkinson's disease undergoing Deep Brain Stimulation treatment.\n",
        "\n",
        "Such research line is a collaboration of NeuroMat with the medical team of Prof Rubens Gisbert Cury at the School of Medical Sciences of the University of São Paulo."
      ]
    },
    {
      "metadata": {
        "id": "wxPEU_s6f5O3",
        "colab_type": "text"
      },
      "cell_type": "markdown",
      "source": [
        "In past NeuroMat experiments (conducted especially by the team of Prof Claudia Vargas [1-3]), we have observed the Functional Connectivity Matrix of EEG signals of healthy individuals observing situations of motor and static behaviour. This reveals which areas are more correlated to others from the observations of EEG data. The outcomes, which will be further detailed below, revealed that some areas have higher node degree than others during the motor-visual stimulation, suggesting their greater role in visual processing of motion."
      ]
    },
    {
      "metadata": {
        "id": "JLUz-3_zhyZj",
        "colab_type": "text"
      },
      "cell_type": "markdown",
      "source": [
        "Parkinson, on the other hand, is a condition affecting directly the motor behaviour of an individual. The disease mainly affects the basal ganglia, leading to the death of neurons. This region connects significantly not only to the motor circuit (which executes the movements) but also to the oculo-motor and associative circuits (related to the perception of the environment). Hence, it is expected that the Parkinson condition significantly changes the Functional Connectivity Matrix and this be a component behind difficulties in walking."
      ]
    },
    {
      "metadata": {
        "id": "c_SUyJdVkMw4",
        "colab_type": "text"
      },
      "cell_type": "markdown",
      "source": [
        "Deep Brain Stimulation (DBS) is a treatment consisting of implanting an electrode in a target in the thalamus, globus pallidus or subthalamic nucleous, able to provide pulses of current, with adjustable intensity and frequency. For given threshold values, specific for each individual, the motor symptoms of Parkinson's disease disappear or are controlled. An intriguing question is what happens to the processing of visual motion when the DBS is on and off. Is there a constrast in the Functional Connectivity Matrix when the DBS is on or off? "
      ]
    },
    {
      "metadata": {
        "id": "cDdBiAoubenM",
        "colab_type": "text"
      },
      "cell_type": "markdown",
      "source": [
        "##How to use this notebook"
      ]
    },
    {
      "metadata": {
        "id": "ONMdpbLHbxGL",
        "colab_type": "text"
      },
      "cell_type": "markdown",
      "source": [
        "This notebook mixes brief texts explaining phenomena and analytical tools, Python3 and Matlab code slices, images containing results, and links to: associated articles, multimedia content (videos, 3-D imagery), full computer codes, bibfiles, etc."
      ]
    },
    {
      "metadata": {
        "id": "KvUnjqd6MY1K",
        "colab_type": "code",
        "colab": {}
      },
      "cell_type": "code",
      "source": [
        "# example of some Python3 code, which can run directly from this Jupyter notebook\n",
        "# do not include heavy coding, as this file should be readily accessible\n",
        "# heavy codes should instead be available as a link."
      ],
      "execution_count": 0,
      "outputs": []
    },
    {
      "metadata": {
        "id": "1F9jmyW3nSd7",
        "colab_type": "text"
      },
      "cell_type": "markdown",
      "source": [
        "This notebook is collaborative, so all assigned users are able to include or edit content. When adding a new article, include the bibliography in the bibfile at the end, and include a text with a brief summary of reserach questions, conclusions and relevance to this notebook."
      ]
    },
    {
      "metadata": {
        "id": "8_F-LJtWoHAK",
        "colab_type": "text"
      },
      "cell_type": "markdown",
      "source": [
        "Some shortcuts of jupyter:\n",
        "\n",
        "\n",
        "1.   To edit a text/code cell go to it and press <enter\\>. Press <shift\\>+<enter\\> to finish/run. Press <esc\\> to finish editing.\n",
        "2.   On a text cell, \\# creates title, \\## creates a second order title, and so on\n",
        "3.   \\$ enables $\\LaTeX$ commands\n",
        "4.   Content within <brackets\\> is interpreted as html code\n",
        "5.   When including Python3 code, make use of tab-completion. For example, on a Python3 cell, after doing ''import numpy as np'', type ''np.random.'', place the cursor on this text and press <tab\\>. You'll see the list of completion options available.\n",
        "6.   % enables magic functions. For example, start with '% matplotlib inline' to allow an interactive matplotlib session. [More magic functions here](https://ipython.readthedocs.io/en/stable/interactive/magics.html)\n",
        "\n"
      ]
    },
    {
      "metadata": {
        "id": "g_E1lEQLsW3m",
        "colab_type": "text"
      },
      "cell_type": "markdown",
      "source": [
        "The aim of this notebook is to serve as a quick reference to the main research materials and results. Hence, text should be as brief as possible, with good use of subsections to direct the attention of the reader."
      ]
    },
    {
      "metadata": {
        "id": "ODn3wzQaq-Nm",
        "colab_type": "text"
      },
      "cell_type": "markdown",
      "source": [
        "##Review of EEG"
      ]
    },
    {
      "metadata": {
        "id": "N_aKjhGGvwOW",
        "colab_type": "text"
      },
      "cell_type": "markdown",
      "source": [
        "Electroencelography (EEG) is a simple technique for measuring the brain activity, with good temporal resolution. It consists in placing sensing electrodes in the scalp and monitoring the natural electrical activity observed at the surface."
      ]
    },
    {
      "metadata": {
        "id": "phJJV0BYwh8z",
        "colab_type": "text"
      },
      "cell_type": "markdown",
      "source": [
        "###Frequency spectrum, frequency bands and spatial patterns"
      ]
    },
    {
      "metadata": {
        "id": "i67fsLDIBWEj",
        "colab_type": "text"
      },
      "cell_type": "markdown",
      "source": [
        ""
      ]
    },
    {
      "metadata": {
        "id": "gnkt5xqBwch6",
        "colab_type": "text"
      },
      "cell_type": "markdown",
      "source": [
        "###Independent Components"
      ]
    },
    {
      "metadata": {
        "id": "o-KykFS-w41R",
        "colab_type": "text"
      },
      "cell_type": "markdown",
      "source": [
        "###Computational Tools"
      ]
    },
    {
      "metadata": {
        "id": "8XIt3lM-mDi4",
        "colab_type": "code",
        "colab": {}
      },
      "cell_type": "code",
      "source": [
        ""
      ],
      "execution_count": 0,
      "outputs": []
    },
    {
      "metadata": {
        "id": "m17I6NXbmEtq",
        "colab_type": "text"
      },
      "cell_type": "markdown",
      "source": [
        "### Data pre-processing"
      ]
    },
    {
      "metadata": {
        "id": "EyrNm4JTr_cr",
        "colab_type": "code",
        "colab": {}
      },
      "cell_type": "code",
      "source": [
        "# The following is Matlab code"
      ],
      "execution_count": 0,
      "outputs": []
    },
    {
      "metadata": {
        "id": "tsJ_D8uXsAI8",
        "colab_type": "text"
      },
      "cell_type": "markdown",
      "source": [
        "%Requires: EEGLAB, FILEIO TOOLBOX ADD-ON, ERPLAB TOOLBOX ADD-ON\n",
        "\n",
        "%Open EEGLAB\n",
        "\n",
        "eeglab\n",
        "\n",
        "%Import dataset (and check if event descriptor was loaded correctly)\n",
        "\n",
        "pop_fileio()\n",
        "\n",
        "if isempty(EEG.event)\n",
        "\n",
        "    EEG=pop_chanevent(EEG,1)\n",
        "\n",
        "end\n",
        "\n",
        "%Import channel locations\n",
        "\n",
        "EEG=pop_chanedit(EEG,'load')\n",
        "\n",
        "%Filtering: remove baseline, remove low frequency, remove high frequency, remove line noise\n",
        "\n",
        "EEG=pop_rmbase(EEG)\n",
        "\n",
        "EEG=pop_eegfiltnew(EEG,1,[])\n",
        "\n",
        "EEG=pop_eegfiltnew(EEG,[],100)\n",
        "\n",
        "EEG=pop_eegfiltnew(EEG,55,65,[],1)\n",
        "\n",
        "%Plot timeseries and remove malfunctioning electrodes\n",
        "\n",
        "EEG=pop_eegplot(EEG)\n",
        "\n",
        "EEG=pop_select(EEG)\n",
        "\n",
        "%Re-reference to average potential\n",
        "\n",
        "EEG=pop_reref(EEG)\n",
        "\n",
        "%Downsample to 100Hz precision (above this, everything slows down unnecessarily)\n",
        "\n",
        "EEG=pop_resample(EEG,100)\n",
        "\n",
        "%Run ICA and remove outlier components twice and run ICA again (it's painfully slow)\n",
        "\n",
        "for i=1:3\n",
        "\n",
        "    EEG=pop_runica(EEG)\n",
        "    \n",
        "    EEG=pop_selectcomps(EEG,1:length(EEG.icachansind))\n",
        "    \n",
        "end\n",
        "\n",
        "EEG=pop_runica(EEG)\n",
        "    \n",
        "%Plot channel spectra and maps (full experiment)\n",
        "\n",
        "pop_spectopo(EEG,1)\n",
        "\n",
        "%Plot ICA components spectra and maps (full experiment)\n",
        "\n",
        "pop_spectopo(EEG,0)\n",
        "\n",
        "%Calculate and plot the correlation map (overall and for each frequency band for full experiment)\n",
        "\n",
        "TO DO\n",
        "\n",
        "%Calculate and plot the functional connectivity (overall and for each frequency band for full experiment)\n",
        "\n",
        "TO DO\n",
        "\n"
      ]
    },
    {
      "metadata": {
        "id": "ZlFG99ees2HT",
        "colab_type": "text"
      },
      "cell_type": "markdown",
      "source": [
        "##Review of Dynamic Functional Connectivity (dFC)"
      ]
    },
    {
      "metadata": {
        "id": "yfieABTlxEBR",
        "colab_type": "text"
      },
      "cell_type": "markdown",
      "source": [
        "### Functional Connectivity: how to obtain and available measures"
      ]
    },
    {
      "metadata": {
        "id": "ZegB07maxkgp",
        "colab_type": "text"
      },
      "cell_type": "markdown",
      "source": [
        "### Dynamic Functional Connectivity: adding the temporal information"
      ]
    },
    {
      "metadata": {
        "id": "J1OzuSKYx3gQ",
        "colab_type": "text"
      },
      "cell_type": "markdown",
      "source": [
        "### dFC in fMRI"
      ]
    },
    {
      "metadata": {
        "id": "7qkMfs1Dx-kA",
        "colab_type": "text"
      },
      "cell_type": "markdown",
      "source": [
        "### dFC in EEG"
      ]
    },
    {
      "metadata": {
        "id": "6_3E2v1js91U",
        "colab_type": "text"
      },
      "cell_type": "markdown",
      "source": [
        "##Review of Parkinson's disease"
      ]
    },
    {
      "metadata": {
        "id": "U9ALiIBOtHLx",
        "colab_type": "text"
      },
      "cell_type": "markdown",
      "source": [
        "##Review of Deep Brain Stimulation"
      ]
    },
    {
      "metadata": {
        "id": "8_ywLWgUtSn5",
        "colab_type": "text"
      },
      "cell_type": "markdown",
      "source": [
        "##EEG functional connectivity of visual stimulation (PLD) on healthy individuals"
      ]
    },
    {
      "metadata": {
        "id": "pt5_oBNztp-a",
        "colab_type": "text"
      },
      "cell_type": "markdown",
      "source": [
        "##EEG functional connectivity during DBS on/off session for Parkinson patients subject to visual (PLD) stimulus"
      ]
    },
    {
      "metadata": {
        "id": "gsphKdxMZkOg",
        "colab_type": "code",
        "colab": {}
      },
      "cell_type": "code",
      "source": [
        ""
      ],
      "execution_count": 0,
      "outputs": []
    },
    {
      "metadata": {
        "id": "-fBLbeGUbvXk",
        "colab_type": "text"
      },
      "cell_type": "markdown",
      "source": [
        "## Bibliography"
      ]
    },
    {
      "metadata": {
        "id": "cCRLWLGj6rI9",
        "colab_type": "text"
      },
      "cell_type": "markdown",
      "source": [
        "[Click here to include bibitem](https://github.com/artvalencio/Parkinson-affects-visual-motion/blob/master/bibliography.bib)"
      ]
    },
    {
      "metadata": {
        "id": "ZRn7y8cj9KGw",
        "colab_type": "text"
      },
      "cell_type": "markdown",
      "source": [
        "1. Martins, E.et al. Cerebral dynamics during the observation of point-light displays depicting postural adjustments. Front. Hum. Neurosci. 11, 217, DOI: 10.3389/fnhum.2017.00217 (2017).\n",
        "2. Fraiman, D., Saunier, G., Martins, E. & Vargas, C. Biological motion coding in the brain: Analysis of visually driven EEG functional networks. PLoS One 9, e84612, DOI: 10.1371/journal.pone.0084612 (2014).\n",
        "3. Saunier, G.et al. Electrophysiological correlates of biological motion permanence in humans. Behav. Brain Res. 236, 166–174, DOI: 10.1016/j.bbr.2012.08.038 (2013).\n",
        "4. Delorme, A. & Makeig, S. EEGLAB: an open source toolbox for analysis of single-trial eeg dynamics. J. Neurosci. Methods 134, 9–21 (2004).\n",
        "5. Galves, A. & Löcherbach, E. Infinite systems of interacting chains with memory of variable length — a stochastic model for biological neural nets. J. Stat. Phys. 151, 896–921 (2013).\n",
        "6. Duarte, A., Fraiman, R., Galves, A., Ost, G. & Vargas, C. Context tree selection for functional data.  [pre-print] (2018). ArXiv:1602.00579."
      ]
    }
  ]
}