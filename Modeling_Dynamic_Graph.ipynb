{
  "nbformat": 4,
  "nbformat_minor": 0,
  "metadata": {
    "colab": {
      "name": "Modeling-Dynamic-Graph.ipynb",
      "version": "0.3.2",
      "provenance": [],
      "include_colab_link": true
    },
    "kernelspec": {
      "name": "python3",
      "display_name": "Python 3"
    }
  },
  "cells": [
    {
      "cell_type": "markdown",
      "metadata": {
        "id": "view-in-github",
        "colab_type": "text"
      },
      "source": [
        "<a href=\"https://colab.research.google.com/github/artvalencio/modeling-dynamic-graph/blob/master/Modeling_Dynamic_Graph.ipynb\" target=\"_parent\"><img src=\"https://colab.research.google.com/assets/colab-badge.svg\" alt=\"Open In Colab\"/></a>"
      ]
    },
    {
      "metadata": {
        "id": "kyBr72zhsXTL",
        "colab_type": "text"
      },
      "cell_type": "markdown",
      "source": [
        "Objective"
      ]
    },
    {
      "metadata": {
        "id": "KvUnjqd6MY1K",
        "colab_type": "code",
        "colab": {}
      },
      "cell_type": "code",
      "source": [
        "#some code"
      ],
      "execution_count": 0,
      "outputs": []
    },
    {
      "metadata": {
        "id": "ZlFG99ees2HT",
        "colab_type": "text"
      },
      "cell_type": "markdown",
      "source": [
        "Review of dFC"
      ]
    },
    {
      "metadata": {
        "id": "6_3E2v1js91U",
        "colab_type": "text"
      },
      "cell_type": "markdown",
      "source": [
        "Review of Parkinson's disease"
      ]
    },
    {
      "metadata": {
        "id": "U9ALiIBOtHLx",
        "colab_type": "text"
      },
      "cell_type": "markdown",
      "source": [
        "Review of Deep Brain Stimulation"
      ]
    },
    {
      "metadata": {
        "id": "8_ywLWgUtSn5",
        "colab_type": "text"
      },
      "cell_type": "markdown",
      "source": [
        "EEG functional connectivity of visual stimulation (PLD) on healthy individuals"
      ]
    },
    {
      "metadata": {
        "id": "pt5_oBNztp-a",
        "colab_type": "text"
      },
      "cell_type": "markdown",
      "source": [
        "EEG functional connectivity during DBS on/off session for Parkinson patients subject to visual (PLD) stimulus"
      ]
    }
  ]
}