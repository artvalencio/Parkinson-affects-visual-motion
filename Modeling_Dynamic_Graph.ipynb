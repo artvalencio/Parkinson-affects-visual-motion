{
  "nbformat": 4,
  "nbformat_minor": 0,
  "metadata": {
    "colab": {
      "name": "Modeling-Dynamic-Graph.ipynb",
      "version": "0.3.2",
      "provenance": [],
      "include_colab_link": true
    },
    "kernelspec": {
      "name": "python3",
      "display_name": "Python 3"
    }
  },
  "cells": [
    {
      "cell_type": "markdown",
      "metadata": {
        "id": "view-in-github",
        "colab_type": "text"
      },
      "source": [
        "<a href=\"https://colab.research.google.com/github/artvalencio/modeling-dynamic-graph/blob/master/Modeling_Dynamic_Graph.ipynb\" target=\"_parent\"><img src=\"https://colab.research.google.com/assets/colab-badge.svg\" alt=\"Open In Colab\"/></a>"
      ]
    },
    {
      "metadata": {
        "id": "uPFjdeXZMHFs",
        "colab_type": "code",
        "colab": {}
      },
      "cell_type": "code",
      "source": [
        ""
      ],
      "execution_count": 0,
      "outputs": []
    },
    {
      "metadata": {
        "id": "zAIow9ttMOcY",
        "colab_type": "text"
      },
      "cell_type": "markdown",
      "source": [
        "I can insert text here, and say whatever I please. So let's start by testing some easy stuff. Like performing sums."
      ]
    },
    {
      "metadata": {
        "id": "KvUnjqd6MY1K",
        "colab_type": "code",
        "outputId": "4df820b8-9949-451c-dbe3-0f5ff8088ee1",
        "colab": {
          "base_uri": "https://localhost:8080/",
          "height": 34
        }
      },
      "cell_type": "code",
      "source": [
        "a = 1\n",
        "b = 2\n",
        "c = a + b\n",
        "print(c)"
      ],
      "execution_count": 0,
      "outputs": [
        {
          "output_type": "stream",
          "text": [
            "3\n"
          ],
          "name": "stdout"
        }
      ]
    }
  ]
}