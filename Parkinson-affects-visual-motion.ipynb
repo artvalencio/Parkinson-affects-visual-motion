{
  "nbformat": 4,
  "nbformat_minor": 0,
  "metadata": {
    "colab": {
      "name": "Modeling-Dynamic-Graph.ipynb",
      "version": "0.3.2",
      "provenance": [],
      "include_colab_link": true
    },
    "kernelspec": {
      "name": "python3",
      "display_name": "Python 3"
    }
  },
  "cells": [
    {
      "cell_type": "markdown",
      "metadata": {
        "id": "view-in-github",
        "colab_type": "text"
      },
      "source": [
        "<a href=\"https://colab.research.google.com/github/artvalencio/Parkinson-affects-visual-motion/blob/master/Parkinson-affects-visual-motion.ipynb\" target=\"_parent\"><img src=\"https://colab.research.google.com/assets/colab-badge.svg\" alt=\"Open In Colab\"/></a>"
      ]
    },
    {
      "metadata": {
        "id": "XN08ol73ZzaW",
        "colab_type": "text"
      },
      "cell_type": "markdown",
      "source": [
        "#How does Parkinson disease affect the visual processing of motion?"
      ]
    },
    {
      "metadata": {
        "id": "kyBr72zhsXTL",
        "colab_type": "text"
      },
      "cell_type": "markdown",
      "source": [
        "##Objective"
      ]
    },
    {
      "metadata": {
        "id": "MhjgSBTlZPqn",
        "colab_type": "text"
      },
      "cell_type": "markdown",
      "source": [
        "This Jupyter Notebook summarizes the progress of the NeuroMat team in the research line of \"modelling dynamic functional connectivity from EEG data\" applied to individuals affected with Parkinson's disease undergoing Deep Brain Stimulation treatment.\n",
        "\n",
        "Such research line is a collaboration of NeuroMat with the medical team of Prof Rubens Gisbert Cury at the School of Medical Sciences of the University of São Paulo."
      ]
    },
    {
      "metadata": {
        "id": "wxPEU_s6f5O3",
        "colab_type": "text"
      },
      "cell_type": "markdown",
      "source": [
        "In past NeuroMat experiments (conducted especially by the team of Prof Claudia Vargas), we have observed the Functional Connectivity Matrix of EEG signals of healthy individuals observing situations of motor and static behaviour. This reveals which areas are more correlated to others from the observations of EEG data. The outcomes, which will be further detailed below, revealed that some areas have higher node degree than others during the motor-visual stimulation, suggesting their greater role in visual processing of motion."
      ]
    },
    {
      "metadata": {
        "id": "JLUz-3_zhyZj",
        "colab_type": "text"
      },
      "cell_type": "markdown",
      "source": [
        "Parkinson, on the other hand, is a condition affecting directly the motor behaviour of an individual. The disease mainly affects the basal ganglia, leading to the death of neurons. This region connects significantly not only to the motor circuit (which executes the movements) but also to the oculo-motor and associative circuits (related to the perception of the environment). Hence, it is expected that the Parkinson condition significantly changes the Functional Connectivity Matrix and this be a component behind difficulties in walking."
      ]
    },
    {
      "metadata": {
        "id": "c_SUyJdVkMw4",
        "colab_type": "text"
      },
      "cell_type": "markdown",
      "source": [
        "Deep Brain Stimulation (DBS) is a treatment consisting of implanting an electrode in a target in the thalamus, globus pallidus or subthalamic nucleous, able to provide pulses of current, with adjustable intensity and frequency. For given threshold values, specific for each individual, the motor symptoms of Parkinson's disease disappear or are controlled. An intriguing question is what happens to the processing of visual motion when the DBS is on and off. Is there a constrast in the Functional Connectivity Matrix when the DBS is on or off? "
      ]
    },
    {
      "metadata": {
        "id": "cDdBiAoubenM",
        "colab_type": "text"
      },
      "cell_type": "markdown",
      "source": [
        "##How to use this notebook"
      ]
    },
    {
      "metadata": {
        "id": "ONMdpbLHbxGL",
        "colab_type": "text"
      },
      "cell_type": "markdown",
      "source": [
        "This notebook mixes brief texts explaining phenomena and analytical tools, Python3 and Matlab code slices, images containing results, and links to: associated articles, multimedia content (videos, 3-D imagery), full computer codes, bibfiles, etc."
      ]
    },
    {
      "metadata": {
        "id": "KvUnjqd6MY1K",
        "colab_type": "code",
        "colab": {}
      },
      "cell_type": "code",
      "source": [
        "# example of some Python3 code. It can be run directly from this Jupyter notebook.\n",
        "# do not include heavy coding, as we intend this file to be readily accessible. Heavy codes should be made available as a link."
      ],
      "execution_count": 0,
      "outputs": []
    },
    {
      "metadata": {
        "id": "1F9jmyW3nSd7",
        "colab_type": "text"
      },
      "cell_type": "markdown",
      "source": [
        "This notebook is collaborative, so all assigned users are able to include or edit content. When adding a new article, include the bibliography in the bibfile at the end, and include a text with a brief summary of reserach questions, conclusions and relevance to this notebook."
      ]
    },
    {
      "metadata": {
        "id": "8_F-LJtWoHAK",
        "colab_type": "text"
      },
      "cell_type": "markdown",
      "source": [
        "Some shortcuts of jupyter:\n",
        "\n",
        "\n",
        "1.   To edit a text/code cell go to it and press <enter\\>. Press <shift\\>+<enter\\> to finish/run. Press <esc\\> to finish editing.\n",
        "2.   On a text cell, \\# creates title, \\## creates a second order title, and so on\n",
        "3.   \\$ enables $\\LaTeX$ commands\n",
        "4.   Content within <brackets\\> is interpreted as html code\n",
        "\n",
        "\n"
      ]
    },
    {
      "metadata": {
        "id": "g_E1lEQLsW3m",
        "colab_type": "text"
      },
      "cell_type": "markdown",
      "source": [
        "The aim of this notebook is to serve as a quick reference to the main research materials and results. Hence, text should be as brief as possible, with good use of subsections to direct the attention of the reader."
      ]
    },
    {
      "metadata": {
        "id": "ODn3wzQaq-Nm",
        "colab_type": "text"
      },
      "cell_type": "markdown",
      "source": [
        "##Review of EEG"
      ]
    },
    {
      "metadata": {
        "id": "ZlFG99ees2HT",
        "colab_type": "text"
      },
      "cell_type": "markdown",
      "source": [
        "##Review of dFC"
      ]
    },
    {
      "metadata": {
        "id": "6_3E2v1js91U",
        "colab_type": "text"
      },
      "cell_type": "markdown",
      "source": [
        "##Review of Parkinson's disease"
      ]
    },
    {
      "metadata": {
        "id": "U9ALiIBOtHLx",
        "colab_type": "text"
      },
      "cell_type": "markdown",
      "source": [
        "##Review of Deep Brain Stimulation"
      ]
    },
    {
      "metadata": {
        "id": "8_ywLWgUtSn5",
        "colab_type": "text"
      },
      "cell_type": "markdown",
      "source": [
        "##EEG functional connectivity of visual stimulation (PLD) on healthy individuals"
      ]
    },
    {
      "metadata": {
        "id": "pt5_oBNztp-a",
        "colab_type": "text"
      },
      "cell_type": "markdown",
      "source": [
        "##EEG functional connectivity during DBS on/off session for Parkinson patients subject to visual (PLD) stimulus"
      ]
    },
    {
      "metadata": {
        "id": "gsphKdxMZkOg",
        "colab_type": "code",
        "colab": {}
      },
      "cell_type": "code",
      "source": [
        ""
      ],
      "execution_count": 0,
      "outputs": []
    },
    {
      "metadata": {
        "id": "-fBLbeGUbvXk",
        "colab_type": "text"
      },
      "cell_type": "markdown",
      "source": [
        ""
      ]
    }
  ]
}